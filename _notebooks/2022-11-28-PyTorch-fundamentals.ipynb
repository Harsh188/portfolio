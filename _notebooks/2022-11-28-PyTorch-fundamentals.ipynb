{
 "cells": [
  {
   "cell_type": "markdown",
   "id": "e2c9a554",
   "metadata": {},
   "source": [
    "# PyTorch Fundamentals\n",
    "> A tutorial of PyTorch.\n",
    "\n",
    "- toc: true \n",
    "- badges: true\n",
    "- comments: true\n",
    "- categories: [jupyter]\n",
    "- image: images/chart-preview.png"
   ]
  },
  {
   "cell_type": "markdown",
   "id": "73dcdc6d",
   "metadata": {},
   "source": [
    "## About\n",
    "This notebook covers the PyTorch Fundamentals using the Zero to Mastery Learn PyTorch for Deep Learning guide.\n",
    "Resource Link: https://www.learnpytorch.io/00_pytorch_fundamentals/"
   ]
  },
  {
   "cell_type": "code",
   "execution_count": 1,
   "id": "f5e52111",
   "metadata": {},
   "outputs": [
    {
     "name": "stdout",
     "output_type": "stream",
     "text": [
      "Thu Dec  1 12:24:52 2022       \r\n",
      "+-----------------------------------------------------------------------------+\r\n",
      "| NVIDIA-SMI 520.61.05    Driver Version: 520.61.05    CUDA Version: 11.8     |\r\n",
      "|-------------------------------+----------------------+----------------------+\r\n",
      "| GPU  Name        Persistence-M| Bus-Id        Disp.A | Volatile Uncorr. ECC |\r\n",
      "| Fan  Temp  Perf  Pwr:Usage/Cap|         Memory-Usage | GPU-Util  Compute M. |\r\n",
      "|                               |                      |               MIG M. |\r\n",
      "|===============================+======================+======================|\r\n",
      "|   0  NVIDIA GeForce ...  On   | 00000000:2B:00.0  On |                  N/A |\r\n",
      "| 30%   53C    P8    30W / 320W |    575MiB / 10240MiB |     17%      Default |\r\n",
      "|                               |                      |                  N/A |\r\n",
      "+-------------------------------+----------------------+----------------------+\r\n",
      "                                                                               \r\n",
      "+-----------------------------------------------------------------------------+\r\n",
      "| Processes:                                                                  |\r\n",
      "|  GPU   GI   CI        PID   Type   Process name                  GPU Memory |\r\n",
      "|        ID   ID                                                   Usage      |\r\n",
      "|=============================================================================|\r\n",
      "+-----------------------------------------------------------------------------+\r\n"
     ]
    }
   ],
   "source": [
    "!nvidia-smi"
   ]
  },
  {
   "cell_type": "markdown",
   "id": "86c3ba9a",
   "metadata": {},
   "source": [
    "## Topics to Cover\n",
    "1. Introduction to tensors\n",
    "2. Creating tensors\n",
    "3. Getting information from tensors\n",
    "4. Manipulating tensors\n",
    "5. Indexing on tensors\n",
    "6. Mixing PyTorch tensors and NumPy\n",
    "7. PyTorch on GPU"
   ]
  },
  {
   "cell_type": "markdown",
   "id": "5f6861dd",
   "metadata": {},
   "source": [
    "### Importing PyTorch"
   ]
  },
  {
   "cell_type": "code",
   "execution_count": 2,
   "id": "1edeb54a",
   "metadata": {},
   "outputs": [
    {
     "name": "stderr",
     "output_type": "stream",
     "text": [
      "/usr/local/lib/python3.8/dist-packages/tqdm/auto.py:22: TqdmWarning: IProgress not found. Please update jupyter and ipywidgets. See https://ipywidgets.readthedocs.io/en/stable/user_install.html\n",
      "  from .autonotebook import tqdm as notebook_tqdm\n"
     ]
    },
    {
     "name": "stdout",
     "output_type": "stream",
     "text": [
      "1.13.0+cu117\n"
     ]
    }
   ],
   "source": [
    "import torch\n",
    "import pandas as pd\n",
    "import numpy as np\n",
    "import matplotlib.pyplot as plt\n",
    "print(torch.__version__)"
   ]
  },
  {
   "cell_type": "markdown",
   "id": "447f0a82",
   "metadata": {},
   "source": [
    "## Introduction to Tensors"
   ]
  },
  {
   "cell_type": "markdown",
   "id": "1d41f39d",
   "metadata": {},
   "source": [
    "A Tensor is an algebraic object that describes multilinear relationship between sets of algebraic objects related to a vector space.\n",
    "> youtube: https://www.youtube.com/watch?v=f5liqUk0ZTw"
   ]
  },
  {
   "cell_type": "markdown",
   "id": "bc2757be",
   "metadata": {},
   "source": [
    "### Creating Tensors"
   ]
  },
  {
   "cell_type": "markdown",
   "id": "9f503cfd",
   "metadata": {},
   "source": [
    "A [`torch.Tensor`](https://pytorch.org/docs/stable/tensors.html) is a multi-dimensional matrix containing elements of a single data type. There are various data types which can be defined. There are also `CPU` and `GPU` tensors."
   ]
  },
  {
   "cell_type": "markdown",
   "id": "928787aa",
   "metadata": {},
   "source": [
    "#### Scalar"
   ]
  },
  {
   "cell_type": "code",
   "execution_count": 3,
   "id": "bd1395f9",
   "metadata": {},
   "outputs": [
    {
     "data": {
      "text/plain": [
       "tensor(7)"
      ]
     },
     "execution_count": 3,
     "metadata": {},
     "output_type": "execute_result"
    }
   ],
   "source": [
    "# Scalar\n",
    "scalar = torch.tensor(7)\n",
    "scalar"
   ]
  },
  {
   "cell_type": "code",
   "execution_count": 4,
   "id": "2184c80e",
   "metadata": {},
   "outputs": [
    {
     "data": {
      "text/plain": [
       "0"
      ]
     },
     "execution_count": 4,
     "metadata": {},
     "output_type": "execute_result"
    }
   ],
   "source": [
    "# Check dimensions\n",
    "scalar.ndim"
   ]
  },
  {
   "cell_type": "code",
   "execution_count": 5,
   "id": "fb1c117b",
   "metadata": {},
   "outputs": [
    {
     "data": {
      "text/plain": [
       "7"
      ]
     },
     "execution_count": 5,
     "metadata": {},
     "output_type": "execute_result"
    }
   ],
   "source": [
    "# Get the Python number within a scalar tensor\n",
    "scalar.item()"
   ]
  },
  {
   "cell_type": "markdown",
   "id": "2d0b9fc9",
   "metadata": {},
   "source": [
    "#### Vectors"
   ]
  },
  {
   "cell_type": "code",
   "execution_count": 6,
   "id": "abe31a34",
   "metadata": {},
   "outputs": [
    {
     "data": {
      "text/plain": [
       "tensor([1, 2])"
      ]
     },
     "execution_count": 6,
     "metadata": {},
     "output_type": "execute_result"
    }
   ],
   "source": [
    "# Vector\n",
    "vector = torch.tensor([1,2])\n",
    "vector"
   ]
  },
  {
   "cell_type": "code",
   "execution_count": 7,
   "id": "9799ebef",
   "metadata": {},
   "outputs": [
    {
     "data": {
      "text/plain": [
       "1"
      ]
     },
     "execution_count": 7,
     "metadata": {},
     "output_type": "execute_result"
    }
   ],
   "source": [
    "# Check dimensions\n",
    "vector.ndim"
   ]
  },
  {
   "cell_type": "code",
   "execution_count": 8,
   "id": "c2a2184b",
   "metadata": {},
   "outputs": [
    {
     "data": {
      "text/plain": [
       "torch.Size([2])"
      ]
     },
     "execution_count": 8,
     "metadata": {},
     "output_type": "execute_result"
    }
   ],
   "source": [
    "# Check shape of vector\n",
    "vector.shape"
   ]
  },
  {
   "cell_type": "markdown",
   "id": "b8c6e2db",
   "metadata": {},
   "source": [
    "#### Matrix"
   ]
  },
  {
   "cell_type": "code",
   "execution_count": 9,
   "id": "93c3b0ab",
   "metadata": {},
   "outputs": [
    {
     "data": {
      "text/plain": [
       "tensor([[1, 2],\n",
       "        [3, 4]])"
      ]
     },
     "execution_count": 9,
     "metadata": {},
     "output_type": "execute_result"
    }
   ],
   "source": [
    "# Matrix\n",
    "matrix = torch.tensor([[1,2],\n",
    "                      [3,4]])\n",
    "matrix"
   ]
  },
  {
   "cell_type": "code",
   "execution_count": 10,
   "id": "38994a64",
   "metadata": {},
   "outputs": [
    {
     "data": {
      "text/plain": [
       "2"
      ]
     },
     "execution_count": 10,
     "metadata": {},
     "output_type": "execute_result"
    }
   ],
   "source": [
    "# Check dimensions\n",
    "matrix.ndim"
   ]
  },
  {
   "cell_type": "code",
   "execution_count": 11,
   "id": "9ade7a19",
   "metadata": {},
   "outputs": [
    {
     "data": {
      "text/plain": [
       "torch.Size([2, 2])"
      ]
     },
     "execution_count": 11,
     "metadata": {},
     "output_type": "execute_result"
    }
   ],
   "source": [
    "# Check shape\n",
    "matrix.shape"
   ]
  },
  {
   "cell_type": "markdown",
   "id": "e56d2e9f",
   "metadata": {},
   "source": [
    "#### Tensors"
   ]
  },
  {
   "cell_type": "code",
   "execution_count": 12,
   "id": "98712916",
   "metadata": {},
   "outputs": [
    {
     "data": {
      "text/plain": [
       "tensor([[[1, 2, 3],\n",
       "         [4, 5, 6],\n",
       "         [7, 8, 9]]])"
      ]
     },
     "execution_count": 12,
     "metadata": {},
     "output_type": "execute_result"
    }
   ],
   "source": [
    "# Tensor\n",
    "tensor = torch.tensor([[[1,2,3],\n",
    "                        [4,5,6],\n",
    "                        [7,8,9]]])\n",
    "tensor"
   ]
  },
  {
   "cell_type": "code",
   "execution_count": 13,
   "id": "7aecc0a9",
   "metadata": {},
   "outputs": [
    {
     "data": {
      "text/plain": [
       "3"
      ]
     },
     "execution_count": 13,
     "metadata": {},
     "output_type": "execute_result"
    }
   ],
   "source": [
    "# Check dimensions\n",
    "tensor.ndim"
   ]
  },
  {
   "cell_type": "code",
   "execution_count": 14,
   "id": "fef043af",
   "metadata": {},
   "outputs": [
    {
     "data": {
      "text/plain": [
       "torch.Size([1, 3, 3])"
      ]
     },
     "execution_count": 14,
     "metadata": {},
     "output_type": "execute_result"
    }
   ],
   "source": [
    "# Check shape\n",
    "tensor.shape"
   ]
  },
  {
   "cell_type": "markdown",
   "id": "f4dd1605",
   "metadata": {},
   "source": [
    "The following image visually depicts the difference between scalars, vectors, matrix and tensors.\n",
    "![](2022-11-28/00-scalar-vector-matrix-tensor.png)"
   ]
  },
  {
   "cell_type": "markdown",
   "id": "c750b281",
   "metadata": {},
   "source": [
    "### Random Tensors"
   ]
  },
  {
   "cell_type": "markdown",
   "id": "8684aee8",
   "metadata": {},
   "source": [
    "A machine learning model often starts out with large random tensors and adjusts these random numbers as it works through the data to represent it in a better way. To do this in PyTorch we can use the [`torch.rand`](https://pytorch.org/docs/stable/generated/torch.rand.html) method."
   ]
  },
  {
   "cell_type": "code",
   "execution_count": 15,
   "id": "e5322c62",
   "metadata": {},
   "outputs": [
    {
     "data": {
      "text/plain": [
       "(tensor([[0.3864, 0.4220, 0.3463, 0.1763],\n",
       "         [0.3355, 0.9340, 0.2307, 0.6128],\n",
       "         [0.0757, 0.9835, 0.4912, 0.1533]]),\n",
       " torch.float32)"
      ]
     },
     "execution_count": 15,
     "metadata": {},
     "output_type": "execute_result"
    }
   ],
   "source": [
    "# Create a random tensor of size (3,4)\n",
    "random_tensor = torch.rand(size=(3,4))\n",
    "random_tensor, random_tensor.dtype"
   ]
  },
  {
   "cell_type": "code",
   "execution_count": 16,
   "id": "62dcf0f0",
   "metadata": {
    "scrolled": true
   },
   "outputs": [
    {
     "data": {
      "text/plain": [
       "(torch.Size([224, 224, 3]), 3)"
      ]
     },
     "execution_count": 16,
     "metadata": {},
     "output_type": "execute_result"
    }
   ],
   "source": [
    "# Create a random tensor of size (224,224,3)\n",
    "random_image_size_tensor = torch.rand(size=(224,224,3))\n",
    "random_image_size_tensor.shape, random_image_size_tensor.ndim"
   ]
  },
  {
   "cell_type": "markdown",
   "id": "da4ac7f2",
   "metadata": {},
   "source": [
    "### Zeros and Ones"
   ]
  },
  {
   "cell_type": "markdown",
   "id": "e48241c6",
   "metadata": {},
   "source": [
    "Sometimes we just want to fill tensors with zeros or ones. We can do this using the [`torch.zeros()`](https://pytorch.org/docs/stable/generated/torch.zeros.html) or [`torch.ones()`](https://pytorch.org/docs/stable/generated/torch.ones.html) method."
   ]
  },
  {
   "cell_type": "code",
   "execution_count": 17,
   "id": "66cdaef5",
   "metadata": {},
   "outputs": [
    {
     "data": {
      "text/plain": [
       "(tensor([[0., 0., 0., 0.],\n",
       "         [0., 0., 0., 0.],\n",
       "         [0., 0., 0., 0.]]),\n",
       " torch.float32)"
      ]
     },
     "execution_count": 17,
     "metadata": {},
     "output_type": "execute_result"
    }
   ],
   "source": [
    "# Create a tensor of all zeros\n",
    "zeros_tensor = torch.zeros(size=(3,4))\n",
    "zeros_tensor, zeros_tensor.dtype"
   ]
  },
  {
   "cell_type": "code",
   "execution_count": 18,
   "id": "55789861",
   "metadata": {},
   "outputs": [
    {
     "data": {
      "text/plain": [
       "(tensor([[1., 1., 1., 1.],\n",
       "         [1., 1., 1., 1.],\n",
       "         [1., 1., 1., 1.]]),\n",
       " torch.float32)"
      ]
     },
     "execution_count": 18,
     "metadata": {},
     "output_type": "execute_result"
    }
   ],
   "source": [
    "# Create tensor of all ones\n",
    "ones_tensor = torch.ones(size=(3,4))\n",
    "ones_tensor, ones_tensor.dtype"
   ]
  },
  {
   "cell_type": "markdown",
   "id": "8641d881",
   "metadata": {},
   "source": [
    "### Creating a range and tensors like"
   ]
  },
  {
   "cell_type": "markdown",
   "id": "09c34d93",
   "metadata": {},
   "source": [
    "To create a range of numbers we can use [`torch.arange(start, end, step)`](https://pytorch.org/docs/stable/generated/torch.arange.html)."
   ]
  },
  {
   "cell_type": "code",
   "execution_count": 19,
   "id": "63e061b4",
   "metadata": {},
   "outputs": [
    {
     "data": {
      "text/plain": [
       "tensor([0, 1, 2, 3, 4, 5, 6, 7, 8, 9])"
      ]
     },
     "execution_count": 19,
     "metadata": {},
     "output_type": "execute_result"
    }
   ],
   "source": [
    "# Use torch.arange()\n",
    "zero_to_ten = torch.arange(start=0,end=10,step=1)\n",
    "zero_to_ten"
   ]
  },
  {
   "cell_type": "markdown",
   "id": "cdd2c7f2",
   "metadata": {},
   "source": [
    "To mimic a shape of another tensor we can use [`torch.rand_like(input)`](https://pytorch.org/docs/stable/generated/torch.rand_like.html), [`torch.zeros_like(input)`](https://pytorch.org/docs/stable/generated/torch.zeros_like.html) or [`torch.ones_like(input)`](https://pytorch.org/docs/stable/generated/torch.ones_like.html)."
   ]
  },
  {
   "cell_type": "code",
   "execution_count": 20,
   "id": "1d6dc982",
   "metadata": {},
   "outputs": [
    {
     "data": {
      "text/plain": [
       "(tensor([[0.6870, 0.7167, 0.6738, 0.9651],\n",
       "         [0.1833, 0.4796, 0.7711, 0.6932],\n",
       "         [0.2788, 0.0643, 0.0418, 0.5420]]),\n",
       " torch.float32)"
      ]
     },
     "execution_count": 20,
     "metadata": {},
     "output_type": "execute_result"
    }
   ],
   "source": [
    "# Create a tensor similar to zeros_tensor but using random\n",
    "rand_zeros_tensor_like = torch.rand_like(zeros_tensor)\n",
    "rand_zeros_tensor_like, rand_zeros_tensor_like.dtype"
   ]
  },
  {
   "cell_type": "markdown",
   "id": "0ed2fdd8",
   "metadata": {},
   "source": [
    "## Getting Information from Tensors"
   ]
  },
  {
   "cell_type": "markdown",
   "id": "29c52786",
   "metadata": {},
   "source": [
    "The most common attributes of tensors are `shape`, `dtype` and `device`."
   ]
  },
  {
   "cell_type": "code",
   "execution_count": 21,
   "id": "474344de",
   "metadata": {},
   "outputs": [
    {
     "name": "stdout",
     "output_type": "stream",
     "text": [
      "tensor([[0.0452, 0.0207, 0.7986, 0.6861],\n",
      "        [0.4294, 0.7774, 0.5604, 0.4319],\n",
      "        [0.1340, 0.9240, 0.3545, 0.6204]])\n",
      "Shape of tensor: torch.Size([3, 4])\n",
      "Datatype of tensor: torch.float32\n",
      "Device tensor is stored on: cpu\n"
     ]
    }
   ],
   "source": [
    "# Create a tensor\n",
    "some_tensor = torch.rand(size=(3,4))\n",
    "\n",
    "# Display details of tensor\n",
    "print(some_tensor)\n",
    "print(f\"Shape of tensor: {some_tensor.shape}\")\n",
    "print(f\"Datatype of tensor: {some_tensor.dtype}\")\n",
    "print(f\"Device tensor is stored on: {some_tensor.device}\")"
   ]
  },
  {
   "cell_type": "markdown",
   "id": "0e1b8af7",
   "metadata": {},
   "source": [
    "## Manipulating Tensors (operations)"
   ]
  },
  {
   "cell_type": "markdown",
   "id": "5af179a4",
   "metadata": {},
   "source": [
    "One of the most important tensor operations in deep learning is matrix multiplication."
   ]
  },
  {
   "cell_type": "code",
   "execution_count": 22,
   "id": "cb5faee5",
   "metadata": {},
   "outputs": [
    {
     "data": {
      "text/plain": [
       "torch.Size([3])"
      ]
     },
     "execution_count": 22,
     "metadata": {},
     "output_type": "execute_result"
    }
   ],
   "source": [
    "tensor = torch.tensor([1,2,3])\n",
    "tensor.shape"
   ]
  },
  {
   "cell_type": "code",
   "execution_count": 23,
   "id": "583425ca",
   "metadata": {},
   "outputs": [
    {
     "data": {
      "text/plain": [
       "tensor([1, 4, 9])"
      ]
     },
     "execution_count": 23,
     "metadata": {},
     "output_type": "execute_result"
    }
   ],
   "source": [
    "# Element-wise matrix multiplicaiton\n",
    "tensor * tensor"
   ]
  },
  {
   "cell_type": "code",
   "execution_count": 24,
   "id": "50dba4a5",
   "metadata": {},
   "outputs": [
    {
     "data": {
      "text/plain": [
       "tensor(14)"
      ]
     },
     "execution_count": 24,
     "metadata": {},
     "output_type": "execute_result"
    }
   ],
   "source": [
    "# Matrix multiplication\n",
    "torch.matmul(tensor, tensor)"
   ]
  },
  {
   "cell_type": "markdown",
   "id": "7cb0477d",
   "metadata": {},
   "source": [
    "## Indexing"
   ]
  },
  {
   "cell_type": "markdown",
   "id": "a15db192",
   "metadata": {},
   "source": [
    "How do we access specific data from tensors?"
   ]
  },
  {
   "cell_type": "code",
   "execution_count": 25,
   "id": "72602ace",
   "metadata": {},
   "outputs": [
    {
     "data": {
      "text/plain": [
       "(tensor([[[1, 2, 3],\n",
       "          [4, 5, 6],\n",
       "          [7, 8, 9]]]),\n",
       " torch.Size([1, 3, 3]))"
      ]
     },
     "execution_count": 25,
     "metadata": {},
     "output_type": "execute_result"
    }
   ],
   "source": [
    "some_tensor = torch.arange(start=1, end=10).reshape(1, 3, 3)\n",
    "some_tensor, some_tensor.shape"
   ]
  },
  {
   "cell_type": "code",
   "execution_count": 26,
   "id": "70686e4e",
   "metadata": {},
   "outputs": [
    {
     "name": "stdout",
     "output_type": "stream",
     "text": [
      "First square bracket: tensor([[1, 2, 3],\n",
      "        [4, 5, 6],\n",
      "        [7, 8, 9]])\n",
      "Second square bracket: tensor([1, 2, 3])\n",
      "Third square bracket: 1\n"
     ]
    }
   ],
   "source": [
    "# Indexing bracket by bracket\n",
    "print(f\"First square bracket: {some_tensor[0]}\")\n",
    "print(f\"Second square bracket: {some_tensor[0][0]}\")\n",
    "print(f\"Third square bracket: {some_tensor[0][0][0]}\")"
   ]
  },
  {
   "cell_type": "code",
   "execution_count": 27,
   "id": "494982ae",
   "metadata": {},
   "outputs": [
    {
     "name": "stdout",
     "output_type": "stream",
     "text": [
      "First row of tensor: tensor([[1, 2, 3]])\n"
     ]
    }
   ],
   "source": [
    "# Selecting first row\n",
    "print(f\"First row of tensor: {some_tensor[:,0]}\")"
   ]
  },
  {
   "cell_type": "code",
   "execution_count": 28,
   "id": "c22f85ae",
   "metadata": {},
   "outputs": [
    {
     "name": "stdout",
     "output_type": "stream",
     "text": [
      "Second column of tensor: tensor([[2, 5, 8]])\n"
     ]
    }
   ],
   "source": [
    "# Selecting second column\n",
    "print(f\"Second column of tensor: {some_tensor[:,:,1]}\")"
   ]
  },
  {
   "cell_type": "code",
   "execution_count": 29,
   "id": "0a880d79",
   "metadata": {},
   "outputs": [
    {
     "name": "stdout",
     "output_type": "stream",
     "text": [
      "Selecting bottom right 2x2 grid: tensor([[[5, 6],\n",
      "         [8, 9]]])\n"
     ]
    }
   ],
   "source": [
    "# Select bottom 2x2\n",
    "print(f\"Selecting bottom right 2x2 grid: {some_tensor[:,1:,1:]}\")"
   ]
  },
  {
   "cell_type": "markdown",
   "id": "972d85ff",
   "metadata": {},
   "source": [
    "## PyTorch and NumPy"
   ]
  },
  {
   "cell_type": "markdown",
   "id": "de8839f7",
   "metadata": {},
   "source": [
    "PyTorch has built in functionality to convert NumPy arrays into PyTorch tensors. This is done using the `torch.from_numpy(ndarray)` method. To convert a Tensor to an array we can use `torch.Tensor.numpy()`."
   ]
  },
  {
   "cell_type": "code",
   "execution_count": 30,
   "id": "da17cd06",
   "metadata": {},
   "outputs": [
    {
     "data": {
      "text/plain": [
       "(array([[0.52877635, 0.51487637, 0.28748219],\n",
       "        [0.03840897, 0.40011216, 0.7600652 ],\n",
       "        [0.65834844, 0.06947759, 0.87114052]]),\n",
       " tensor([[0.5288, 0.5149, 0.2875],\n",
       "         [0.0384, 0.4001, 0.7601],\n",
       "         [0.6583, 0.0695, 0.8711]], dtype=torch.float64))"
      ]
     },
     "execution_count": 30,
     "metadata": {},
     "output_type": "execute_result"
    }
   ],
   "source": [
    "# Converting array to tensor\n",
    "array = np.random.rand(3,3)\n",
    "array, torch.from_numpy(array)"
   ]
  },
  {
   "cell_type": "code",
   "execution_count": 31,
   "id": "39e96709",
   "metadata": {},
   "outputs": [
    {
     "data": {
      "text/plain": [
       "(tensor([[0.1617, 0.9384, 0.5670],\n",
       "         [0.3329, 0.2371, 0.1353],\n",
       "         [0.7492, 0.9597, 0.1461]]),\n",
       " array([[0.1617378 , 0.9383805 , 0.5670012 ],\n",
       "        [0.3328787 , 0.23712236, 0.13531995],\n",
       "        [0.7492051 , 0.9597247 , 0.14605427]], dtype=float32))"
      ]
     },
     "execution_count": 31,
     "metadata": {},
     "output_type": "execute_result"
    }
   ],
   "source": [
    "# Converting tensor to array\n",
    "some_tensor = torch.rand(size=(3,3))\n",
    "some_tensor, some_tensor.numpy()"
   ]
  },
  {
   "cell_type": "markdown",
   "id": "a84ae05b",
   "metadata": {},
   "source": [
    "## PyTorch on GPU"
   ]
  },
  {
   "cell_type": "code",
   "execution_count": 32,
   "id": "b7672315",
   "metadata": {},
   "outputs": [
    {
     "data": {
      "text/plain": [
       "True"
      ]
     },
     "execution_count": 32,
     "metadata": {},
     "output_type": "execute_result"
    }
   ],
   "source": [
    "# Check for GPU\n",
    "torch.cuda.is_available()"
   ]
  },
  {
   "cell_type": "code",
   "execution_count": 33,
   "id": "8b26039d",
   "metadata": {},
   "outputs": [
    {
     "data": {
      "text/plain": [
       "'cuda'"
      ]
     },
     "execution_count": 33,
     "metadata": {},
     "output_type": "execute_result"
    }
   ],
   "source": [
    "# Set device type\n",
    "device = \"cuda\" if torch.cuda.is_available() else \"cpu\"\n",
    "device"
   ]
  },
  {
   "cell_type": "code",
   "execution_count": 34,
   "id": "ea7433db",
   "metadata": {},
   "outputs": [
    {
     "data": {
      "text/plain": [
       "1"
      ]
     },
     "execution_count": 34,
     "metadata": {},
     "output_type": "execute_result"
    }
   ],
   "source": [
    "# Count number of devices\n",
    "torch.cuda.device_count()"
   ]
  },
  {
   "cell_type": "markdown",
   "id": "e4cc3444",
   "metadata": {},
   "source": [
    "PyTorch maintains a seperation of where tensors are stored. If we are using GPUs for training then we have to put the tensors on the gpu device. This allows us to run faster numerical computation than using a CPU."
   ]
  },
  {
   "cell_type": "code",
   "execution_count": 35,
   "id": "df01213c",
   "metadata": {},
   "outputs": [
    {
     "name": "stdout",
     "output_type": "stream",
     "text": [
      "tensor([1, 2, 3]) cpu\n",
      "tensor([1, 2, 3], device='cuda:0') cuda:0\n"
     ]
    }
   ],
   "source": [
    "# Create tensor\n",
    "some_tensor = torch.ones(size=(3,3))\n",
    "\n",
    "# Move the tensor to GPU\n",
    "tensor_on_gpu = tensor.to(device)\n",
    "\n",
    "# Check where the tensor exists\n",
    "print(tensor, tensor.device)\n",
    "\n",
    "# Check where the tensor exists\n",
    "print(tensor_on_gpu, tensor_on_gpu.device)"
   ]
  },
  {
   "cell_type": "markdown",
   "id": "c207b126",
   "metadata": {},
   "source": [
    "To move the tensor back to CPU we can use `torch.to('cpu')`. This is needed if we want to convert our tensor into a numpy array."
   ]
  },
  {
   "cell_type": "markdown",
   "id": "46c7cff4",
   "metadata": {},
   "source": [
    "## Exercises "
   ]
  },
  {
   "cell_type": "markdown",
   "id": "f9106d72",
   "metadata": {},
   "source": [
    "1. Create a random tensor with shape `(7, 7)`."
   ]
  },
  {
   "cell_type": "code",
   "execution_count": 36,
   "id": "338aa527",
   "metadata": {},
   "outputs": [
    {
     "data": {
      "text/plain": [
       "tensor([[0.2939, 0.0436, 0.6219, 0.6090, 0.0334, 0.9435, 0.1173],\n",
       "        [0.0818, 0.6880, 0.7191, 0.8980, 0.3537, 0.1512, 0.4098],\n",
       "        [0.9492, 0.9181, 0.6112, 0.0101, 0.9554, 0.4541, 0.3899],\n",
       "        [0.2519, 0.8227, 0.8853, 0.8640, 0.9598, 0.2262, 0.0393],\n",
       "        [0.4030, 0.5945, 0.6027, 0.6424, 0.8491, 0.8344, 0.0452],\n",
       "        [0.2884, 0.2951, 0.8422, 0.9204, 0.8882, 0.1274, 0.8725],\n",
       "        [0.1320, 0.8361, 0.7701, 0.8724, 0.7167, 0.5192, 0.1237]])"
      ]
     },
     "execution_count": 36,
     "metadata": {},
     "output_type": "execute_result"
    }
   ],
   "source": [
    "torch.rand(size=(7,7))"
   ]
  },
  {
   "cell_type": "markdown",
   "id": "338fe73a",
   "metadata": {},
   "source": [
    "2. Perform a matrix multiplication on the tensor from the previous problem with another random tensor with shape `(1, 7)` (hint: you may have to transpose the second tensor)."
   ]
  },
  {
   "cell_type": "code",
   "execution_count": 38,
   "id": "db563428",
   "metadata": {},
   "outputs": [
    {
     "name": "stdout",
     "output_type": "stream",
     "text": [
      "torch.Size([7, 7]) torch.Size([1, 7])\n"
     ]
    },
    {
     "data": {
      "text/plain": [
       "tensor([[2.2379],\n",
       "        [2.9939],\n",
       "        [3.8932],\n",
       "        [3.3609],\n",
       "        [2.9280],\n",
       "        [2.7368],\n",
       "        [1.4672]])"
      ]
     },
     "execution_count": 38,
     "metadata": {},
     "output_type": "execute_result"
    }
   ],
   "source": [
    "tensor_1 = torch.rand(size=(7,7))\n",
    "tensor_2 = torch.rand(size=(1,7))\n",
    "\n",
    "print(tensor_1.shape, tensor_2.shape)\n",
    "\n",
    "torch.matmul(tensor_1, tensor_2.T)"
   ]
  },
  {
   "cell_type": "code",
   "execution_count": null,
   "id": "2aa39b23",
   "metadata": {},
   "outputs": [],
   "source": []
  }
 ],
 "metadata": {
  "kernelspec": {
   "display_name": "Python 3 (ipykernel)",
   "language": "python",
   "name": "python3"
  },
  "language_info": {
   "codemirror_mode": {
    "name": "ipython",
    "version": 3
   },
   "file_extension": ".py",
   "mimetype": "text/x-python",
   "name": "python",
   "nbconvert_exporter": "python",
   "pygments_lexer": "ipython3",
   "version": "3.8.10"
  }
 },
 "nbformat": 4,
 "nbformat_minor": 5
}
